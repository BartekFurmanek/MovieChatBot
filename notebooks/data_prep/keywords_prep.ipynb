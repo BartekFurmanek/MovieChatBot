{
 "cells": [
  {
   "cell_type": "code",
   "execution_count": 6,
   "id": "26df4561",
   "metadata": {},
   "outputs": [],
   "source": [
    "#imports\n",
    "import pandas as pd\n",
    "import ast"
   ]
  },
  {
   "cell_type": "code",
   "execution_count": 7,
   "id": "829599f4",
   "metadata": {},
   "outputs": [],
   "source": [
    "#Global Variables\n",
    "DATA_PATH = '../../data/raw/'\n",
    "KEYWORDS_FILE = DATA_PATH + 'keywords.csv'\n",
    "\n",
    "CLEAN_DATA_PATH = '../../data/clean/'\n",
    "CLEAN_KEYWORDS_FILE = CLEAN_DATA_PATH + 'keywords.csv'"
   ]
  },
  {
   "cell_type": "markdown",
   "id": "c22e829e",
   "metadata": {},
   "source": [
    "## EXTRACTING KEYWORD"
   ]
  },
  {
   "cell_type": "code",
   "execution_count": 8,
   "id": "a8740afc",
   "metadata": {},
   "outputs": [],
   "source": [
    "#Creating df for keywords\n",
    "keywords_df = pd.read_csv(KEYWORDS_FILE)"
   ]
  },
  {
   "cell_type": "code",
   "execution_count": 9,
   "id": "29a7856b",
   "metadata": {},
   "outputs": [
    {
     "name": "stdout",
     "output_type": "stream",
     "text": [
      "<class 'pandas.core.frame.DataFrame'>\n",
      "RangeIndex: 46419 entries, 0 to 46418\n",
      "Data columns (total 2 columns):\n",
      " #   Column    Non-Null Count  Dtype \n",
      "---  ------    --------------  ----- \n",
      " 0   id        46419 non-null  int64 \n",
      " 1   keywords  46419 non-null  object\n",
      "dtypes: int64(1), object(1)\n",
      "memory usage: 725.4+ KB\n"
     ]
    }
   ],
   "source": [
    "#df info\n",
    "keywords_df.info()"
   ]
  },
  {
   "cell_type": "code",
   "execution_count": 10,
   "id": "5ba2b59c",
   "metadata": {},
   "outputs": [],
   "source": [
    "#Extract keywords for each movie\n",
    "keywords_rows = []\n",
    "for idx, row in keywords_df.iterrows():\n",
    "    movie_id = row['id']\n",
    "    keywords_list = row['keywords']\n",
    "    if isinstance(keywords_list, str):\n",
    "        try:\n",
    "            keywords_list = ast.literal_eval(keywords_list)\n",
    "        except Exception:\n",
    "            keywords_list = []\n",
    "        for keyword in keywords_list:\n",
    "            if isinstance(keyword, dict):\n",
    "                keyword_id = keyword.get('id')\n",
    "                keyword_name = keyword.get('name')\n",
    "                if keyword_name:\n",
    "                    keywords_rows.append({\n",
    "                        'movie_id': movie_id,\n",
    "                        'keyword_id': keyword_id,\n",
    "                        'keyword_name': keyword_name\n",
    "                    })\n",
    "            else:\n",
    "                print(f\"Skipping invalid keyword data for movie_id {movie_id}\")\n",
    "keywords_df = pd.DataFrame(keywords_rows)"
   ]
  },
  {
   "cell_type": "code",
   "execution_count": 11,
   "id": "ae18bc2d",
   "metadata": {},
   "outputs": [
    {
     "name": "stdout",
     "output_type": "stream",
     "text": [
      "<class 'pandas.core.frame.DataFrame'>\n",
      "RangeIndex: 158680 entries, 0 to 158679\n",
      "Data columns (total 3 columns):\n",
      " #   Column        Non-Null Count   Dtype \n",
      "---  ------        --------------   ----- \n",
      " 0   movie_id      158680 non-null  int64 \n",
      " 1   keyword_id    158680 non-null  int64 \n",
      " 2   keyword_name  158680 non-null  object\n",
      "dtypes: int64(2), object(1)\n",
      "memory usage: 3.6+ MB\n"
     ]
    }
   ],
   "source": [
    "#df info\n",
    "keywords_df.info()"
   ]
  },
  {
   "cell_type": "code",
   "execution_count": 12,
   "id": "96de3ddc",
   "metadata": {},
   "outputs": [],
   "source": [
    "#Cleaning empty strings in keyword_name and NaN values\n",
    "keywords_df = keywords_df.dropna()\n",
    "keywords_df = keywords_df[keywords_df['keyword_name'].str.strip() != '']\n",
    "keywords_df = keywords_df.drop_duplicates()\n"
   ]
  },
  {
   "cell_type": "code",
   "execution_count": 13,
   "id": "9dcf92fe",
   "metadata": {},
   "outputs": [
    {
     "name": "stdout",
     "output_type": "stream",
     "text": [
      "<class 'pandas.core.frame.DataFrame'>\n",
      "Index: 156598 entries, 0 to 158679\n",
      "Data columns (total 3 columns):\n",
      " #   Column        Non-Null Count   Dtype \n",
      "---  ------        --------------   ----- \n",
      " 0   movie_id      156598 non-null  int64 \n",
      " 1   keyword_id    156598 non-null  int64 \n",
      " 2   keyword_name  156598 non-null  object\n",
      "dtypes: int64(2), object(1)\n",
      "memory usage: 4.8+ MB\n"
     ]
    }
   ],
   "source": [
    "#df info\n",
    "keywords_df.info()"
   ]
  },
  {
   "cell_type": "code",
   "execution_count": 14,
   "id": "857328da",
   "metadata": {},
   "outputs": [],
   "source": [
    "#Saving cleaned keywords data\n",
    "keywords_df.to_csv(CLEAN_KEYWORDS_FILE, index=False)"
   ]
  }
 ],
 "metadata": {
  "kernelspec": {
   "display_name": "MCBenv",
   "language": "python",
   "name": "python3"
  },
  "language_info": {
   "codemirror_mode": {
    "name": "ipython",
    "version": 3
   },
   "file_extension": ".py",
   "mimetype": "text/x-python",
   "name": "python",
   "nbconvert_exporter": "python",
   "pygments_lexer": "ipython3",
   "version": "3.11.9"
  }
 },
 "nbformat": 4,
 "nbformat_minor": 5
}
