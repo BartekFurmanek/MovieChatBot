{
 "cells": [
  {
   "cell_type": "code",
   "execution_count": 1,
   "id": "c83a10d0",
   "metadata": {},
   "outputs": [],
   "source": [
    "#Imports\n",
    "import pandas as pd\n",
    "import ast"
   ]
  },
  {
   "cell_type": "code",
   "execution_count": 2,
   "id": "0ccb6e96",
   "metadata": {},
   "outputs": [],
   "source": [
    "#Global Variables\n",
    "DATA_PATH = '../data/'\n",
    "CREDITS_FILE = DATA_PATH + 'credits.csv'\n",
    "\n",
    "CLEAN_DATA_PATH = '../clean_data/'\n",
    "ACTORS_FILE = CLEAN_DATA_PATH + 'actors.csv'\n",
    "CREW_FILE = CLEAN_DATA_PATH + 'crew.csv'\n",
    "DIRECTORS_FILE = CLEAN_DATA_PATH + 'directors.csv'\n",
    "PEOPLE_FILE = CLEAN_DATA_PATH + 'people.csv'"
   ]
  },
  {
   "cell_type": "markdown",
   "id": "a9872651",
   "metadata": {},
   "source": [
    "# EXTRACTING ALL ACTORS AND CREW FROM CREDITS FILE"
   ]
  },
  {
   "cell_type": "code",
   "execution_count": 3,
   "id": "9f71f4a7",
   "metadata": {},
   "outputs": [],
   "source": [
    "#creating df for credits file\n",
    "credits_df = pd.read_csv(CREDITS_FILE)"
   ]
  },
  {
   "cell_type": "code",
   "execution_count": 4,
   "id": "821c765b",
   "metadata": {},
   "outputs": [
    {
     "name": "stdout",
     "output_type": "stream",
     "text": [
      "<class 'pandas.core.frame.DataFrame'>\n",
      "RangeIndex: 45476 entries, 0 to 45475\n",
      "Data columns (total 3 columns):\n",
      " #   Column  Non-Null Count  Dtype \n",
      "---  ------  --------------  ----- \n",
      " 0   cast    45476 non-null  object\n",
      " 1   crew    45476 non-null  object\n",
      " 2   id      45476 non-null  int64 \n",
      "dtypes: int64(1), object(2)\n",
      "memory usage: 1.0+ MB\n"
     ]
    }
   ],
   "source": [
    "#df info\n",
    "credits_df.info()"
   ]
  },
  {
   "cell_type": "code",
   "execution_count": 5,
   "id": "e31ad86c",
   "metadata": {},
   "outputs": [],
   "source": [
    "#Cleaning df\n",
    "credits_df = credits_df.dropna()\n",
    "credits_df = credits_df.drop_duplicates(subset=['id'])"
   ]
  },
  {
   "cell_type": "code",
   "execution_count": 6,
   "id": "7a044c80",
   "metadata": {},
   "outputs": [
    {
     "name": "stdout",
     "output_type": "stream",
     "text": [
      "<class 'pandas.core.frame.DataFrame'>\n",
      "Index: 45432 entries, 0 to 45475\n",
      "Data columns (total 3 columns):\n",
      " #   Column  Non-Null Count  Dtype \n",
      "---  ------  --------------  ----- \n",
      " 0   cast    45432 non-null  object\n",
      " 1   crew    45432 non-null  object\n",
      " 2   id      45432 non-null  int64 \n",
      "dtypes: int64(1), object(2)\n",
      "memory usage: 1.4+ MB\n"
     ]
    }
   ],
   "source": [
    "#df info\n",
    "credits_df.info()"
   ]
  },
  {
   "cell_type": "code",
   "execution_count": 7,
   "id": "2fbbc50c",
   "metadata": {},
   "outputs": [],
   "source": [
    "#Extracting actors and crew from credtis file\n",
    "actors_rows = []\n",
    "crew_rows = []\n",
    "directors_rows = [] #Directors will be stored seprately from other crew members, since there are relevant to movies\n",
    "people_row = []     #To store all unique persons\n",
    "\n",
    "for index, row in credits_df.iterrows():\n",
    "    movie_id = row['id']\n",
    "    actors = row['cast']\n",
    "    crew = row['crew']\n",
    "    \n",
    "    #Extracting actors\n",
    "    if isinstance(actors, str) and actors.strip():\n",
    "        try:\n",
    "            actors_list = ast.literal_eval(actors)\n",
    "        except Exception:\n",
    "            actors_list = []\n",
    "        \n",
    "        for actor in actors_list:\n",
    "            if isinstance(actor, dict):\n",
    "                actor_id = actor.get('id')\n",
    "                actor_name = actor.get('name')\n",
    "                character = actor.get('character')\n",
    "                if actor_id and actor_name.strip():\n",
    "                    people_row.append({'person_id': actor_id, 'person_name': actor_name})\n",
    "                    actors_rows.append({'movie_id': movie_id, 'person_id': actor_id, 'person_name': actor_name, 'character': character})\n",
    "            else:\n",
    "                print(f\"Skipping invalid actor data for movie_id {movie_id}\")\n",
    "                \n",
    "    #Extracting crew\n",
    "    if isinstance(crew, str) and crew.strip():\n",
    "        try:\n",
    "            crew_list = ast.literal_eval(crew)\n",
    "        except Exception:\n",
    "            crew_list = []\n",
    "        \n",
    "        for person in crew_list:\n",
    "            if isinstance(person, dict):\n",
    "                person_id = person.get('id')\n",
    "                person_name = person.get('name')\n",
    "                person_job = person.get('job')\n",
    "                person_department = person.get('department')\n",
    "                if person_id and person_name.strip():\n",
    "                    people_row.append({'person_id': person_id, 'person_name': person_name})\n",
    "                    if person_job == 'Director':\n",
    "                        directors_rows.append({'movie_id': movie_id, 'person_id': person_id, 'person_name': person_name})\n",
    "                    else:\n",
    "                        crew_rows.append({'movie_id': movie_id, 'person_id': person_id, 'person_name': person_name, 'job': person_job, 'department': person_department})\n",
    "            else:\n",
    "                print(f\"Skipping invalid crew data for movie_id {movie_id}\")\n",
    "\n",
    "\n",
    "#Saving data in dataframes\n",
    "actors_df = pd.DataFrame(actors_rows)\n",
    "crew_df = pd.DataFrame(crew_rows)\n",
    "directors_df = pd.DataFrame(directors_rows)\n",
    "people_df = pd.DataFrame(people_row).drop_duplicates()"
   ]
  },
  {
   "cell_type": "code",
   "execution_count": 8,
   "id": "77875246",
   "metadata": {},
   "outputs": [
    {
     "name": "stdout",
     "output_type": "stream",
     "text": [
      "<class 'pandas.core.frame.DataFrame'>\n",
      "Index: 353358 entries, 0 to 1025879\n",
      "Data columns (total 2 columns):\n",
      " #   Column       Non-Null Count   Dtype \n",
      "---  ------       --------------   ----- \n",
      " 0   person_id    353358 non-null  int64 \n",
      " 1   person_name  353358 non-null  object\n",
      "dtypes: int64(1), object(1)\n",
      "memory usage: 8.1+ MB\n"
     ]
    }
   ],
   "source": [
    "#df_info\n",
    "people_df.info()\n"
   ]
  },
  {
   "cell_type": "code",
   "execution_count": 9,
   "id": "b7c4763d",
   "metadata": {},
   "outputs": [
    {
     "name": "stdout",
     "output_type": "stream",
     "text": [
      "<class 'pandas.core.frame.DataFrame'>\n",
      "RangeIndex: 562044 entries, 0 to 562043\n",
      "Data columns (total 4 columns):\n",
      " #   Column       Non-Null Count   Dtype \n",
      "---  ------       --------------   ----- \n",
      " 0   movie_id     562044 non-null  int64 \n",
      " 1   person_id    562044 non-null  int64 \n",
      " 2   person_name  562044 non-null  object\n",
      " 3   character    562044 non-null  object\n",
      "dtypes: int64(2), object(2)\n",
      "memory usage: 17.2+ MB\n"
     ]
    }
   ],
   "source": [
    "#df info\n",
    "actors_df.info()"
   ]
  },
  {
   "cell_type": "code",
   "execution_count": 10,
   "id": "5198a742",
   "metadata": {},
   "outputs": [
    {
     "name": "stdout",
     "output_type": "stream",
     "text": [
      "<class 'pandas.core.frame.DataFrame'>\n",
      "RangeIndex: 414837 entries, 0 to 414836\n",
      "Data columns (total 5 columns):\n",
      " #   Column       Non-Null Count   Dtype \n",
      "---  ------       --------------   ----- \n",
      " 0   movie_id     414837 non-null  int64 \n",
      " 1   person_id    414837 non-null  int64 \n",
      " 2   person_name  414837 non-null  object\n",
      " 3   job          414837 non-null  object\n",
      " 4   department   414837 non-null  object\n",
      "dtypes: int64(2), object(3)\n",
      "memory usage: 15.8+ MB\n"
     ]
    }
   ],
   "source": [
    "#df info\n",
    "crew_df.info()"
   ]
  },
  {
   "cell_type": "code",
   "execution_count": 11,
   "id": "e831d5a4",
   "metadata": {},
   "outputs": [
    {
     "name": "stdout",
     "output_type": "stream",
     "text": [
      "<class 'pandas.core.frame.DataFrame'>\n",
      "RangeIndex: 48999 entries, 0 to 48998\n",
      "Data columns (total 3 columns):\n",
      " #   Column       Non-Null Count  Dtype \n",
      "---  ------       --------------  ----- \n",
      " 0   movie_id     48999 non-null  int64 \n",
      " 1   person_id    48999 non-null  int64 \n",
      " 2   person_name  48999 non-null  object\n",
      "dtypes: int64(2), object(1)\n",
      "memory usage: 1.1+ MB\n"
     ]
    }
   ],
   "source": [
    "#df info\n",
    "directors_df.info()"
   ]
  },
  {
   "cell_type": "code",
   "execution_count": 12,
   "id": "7ffcf655",
   "metadata": {},
   "outputs": [],
   "source": [
    "#Cleaning and droping duplicates\n",
    "actors_df = actors_df.dropna(subset=['person_id', 'person_name'])\n",
    "crew_df = crew_df.dropna(subset=['person_id', 'person_name'])\n",
    "directors_df = directors_df.dropna(subset=['person_id', 'person_name'])\n",
    "\n",
    "actors_df = actors_df.drop_duplicates()\n",
    "crew_df = crew_df.drop_duplicates()\n",
    "directors_df = directors_df.drop_duplicates()"
   ]
  },
  {
   "cell_type": "code",
   "execution_count": 13,
   "id": "da5ba7fc",
   "metadata": {},
   "outputs": [
    {
     "name": "stdout",
     "output_type": "stream",
     "text": [
      "<class 'pandas.core.frame.DataFrame'>\n",
      "Index: 562040 entries, 0 to 562043\n",
      "Data columns (total 4 columns):\n",
      " #   Column       Non-Null Count   Dtype \n",
      "---  ------       --------------   ----- \n",
      " 0   movie_id     562040 non-null  int64 \n",
      " 1   person_id    562040 non-null  int64 \n",
      " 2   person_name  562040 non-null  object\n",
      " 3   character    562040 non-null  object\n",
      "dtypes: int64(2), object(2)\n",
      "memory usage: 21.4+ MB\n"
     ]
    }
   ],
   "source": [
    "#df info\n",
    "actors_df.info()"
   ]
  },
  {
   "cell_type": "code",
   "execution_count": 14,
   "id": "aef30421",
   "metadata": {},
   "outputs": [
    {
     "name": "stdout",
     "output_type": "stream",
     "text": [
      "<class 'pandas.core.frame.DataFrame'>\n",
      "RangeIndex: 414837 entries, 0 to 414836\n",
      "Data columns (total 5 columns):\n",
      " #   Column       Non-Null Count   Dtype \n",
      "---  ------       --------------   ----- \n",
      " 0   movie_id     414837 non-null  int64 \n",
      " 1   person_id    414837 non-null  int64 \n",
      " 2   person_name  414837 non-null  object\n",
      " 3   job          414837 non-null  object\n",
      " 4   department   414837 non-null  object\n",
      "dtypes: int64(2), object(3)\n",
      "memory usage: 15.8+ MB\n"
     ]
    }
   ],
   "source": [
    "#df info\n",
    "crew_df.info()"
   ]
  },
  {
   "cell_type": "code",
   "execution_count": 15,
   "id": "61807a9a",
   "metadata": {},
   "outputs": [
    {
     "name": "stdout",
     "output_type": "stream",
     "text": [
      "<class 'pandas.core.frame.DataFrame'>\n",
      "RangeIndex: 48999 entries, 0 to 48998\n",
      "Data columns (total 3 columns):\n",
      " #   Column       Non-Null Count  Dtype \n",
      "---  ------       --------------  ----- \n",
      " 0   movie_id     48999 non-null  int64 \n",
      " 1   person_id    48999 non-null  int64 \n",
      " 2   person_name  48999 non-null  object\n",
      "dtypes: int64(2), object(1)\n",
      "memory usage: 1.1+ MB\n"
     ]
    }
   ],
   "source": [
    "#df info\n",
    "directors_df.info()"
   ]
  },
  {
   "cell_type": "code",
   "execution_count": 16,
   "id": "bdf76a6f",
   "metadata": {},
   "outputs": [],
   "source": [
    "#Saving cleaned data to csv files\n",
    "actors_df.to_csv(ACTORS_FILE, index=False)\n",
    "crew_df.to_csv(CREW_FILE, index=False)\n",
    "directors_df.to_csv(DIRECTORS_FILE, index=False)"
   ]
  },
  {
   "cell_type": "markdown",
   "id": "bbf52910",
   "metadata": {},
   "source": []
  }
 ],
 "metadata": {
  "kernelspec": {
   "display_name": "PythonEnv",
   "language": "python",
   "name": "python3"
  },
  "language_info": {
   "codemirror_mode": {
    "name": "ipython",
    "version": 3
   },
   "file_extension": ".py",
   "mimetype": "text/x-python",
   "name": "python",
   "nbconvert_exporter": "python",
   "pygments_lexer": "ipython3",
   "version": "3.11.9"
  }
 },
 "nbformat": 4,
 "nbformat_minor": 5
}
