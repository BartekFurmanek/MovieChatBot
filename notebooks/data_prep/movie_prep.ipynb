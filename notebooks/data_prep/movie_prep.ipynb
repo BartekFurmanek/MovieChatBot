{
 "cells": [
  {
   "cell_type": "code",
   "execution_count": 1,
   "id": "a48576ff",
   "metadata": {},
   "outputs": [],
   "source": [
    "#Imports\n",
    "import pandas as pd\n",
    "import ast"
   ]
  },
  {
   "cell_type": "code",
   "execution_count": null,
   "id": "eeafcb04",
   "metadata": {},
   "outputs": [],
   "source": [
    "#Global Variables\n",
    "DATA_PATH = '../../data/raw/'\n",
    "MOVIES_FILE = DATA_PATH + \"movies_metadata.csv\"\n",
    "ISO_639_FILE = DATA_PATH + \"language-codes.csv\"\n",
    "ISO_3166_FILE = DATA_PATH + \"country-codes.csv\"\n",
    "\n",
    "CLEAN_DATA_PATH = '../../data/clean/'\n",
    "CLEAN_MOVIES_FILE = CLEAN_DATA_PATH + \"clean_movies_metadata.csv\"\n",
    "COLLECTIONS_FILE = CLEAN_DATA_PATH + \"movie_collections.csv\"\n",
    "GENRE_FILE = CLEAN_DATA_PATH + \"movie_genres.csv\"\n",
    "PRODUCTION_COMPANIES_FILE = CLEAN_DATA_PATH + \"movie_production_companies.csv\"\n",
    "PRODUCTION_COUNTRIES_FILE = CLEAN_DATA_PATH + \"movie_production_countries.csv\"\n",
    "SPOKEN_LANGUAGES_FILE = CLEAN_DATA_PATH + \"movie_spoken_languages.csv\""
   ]
  },
  {
   "cell_type": "code",
   "execution_count": 3,
   "id": "f1226d1c",
   "metadata": {},
   "outputs": [],
   "source": [
    "#ISO639-1 dictionary\n",
    "iso_639_pd = pd.read_csv(ISO_639_FILE, header=0)\n",
    "iso_639_dict = {row['alpha2']: row['English'] for index, row in iso_639_pd.iterrows()}\n",
    "\n",
    "#ISO3166-1 dictionary\n",
    "iso_3166_pd = pd.read_csv(ISO_3166_FILE, header=0)\n",
    "iso_3166_dict = {row['Code']: row['Name'] for index, row in iso_3166_pd.iterrows()}"
   ]
  },
  {
   "cell_type": "markdown",
   "id": "937571ab",
   "metadata": {},
   "source": [
    "## CLEANING AND PREPERAING MOVIES DATASET"
   ]
  },
  {
   "cell_type": "code",
   "execution_count": 4,
   "id": "74002a85",
   "metadata": {},
   "outputs": [
    {
     "data": {
      "application/vnd.microsoft.datawrangler.viewer.v0+json": {
       "columns": [
        {
         "name": "index",
         "rawType": "int64",
         "type": "integer"
        },
        {
         "name": "adult",
         "rawType": "object",
         "type": "string"
        },
        {
         "name": "belongs_to_collection",
         "rawType": "object",
         "type": "unknown"
        },
        {
         "name": "budget",
         "rawType": "object",
         "type": "string"
        },
        {
         "name": "genres",
         "rawType": "object",
         "type": "string"
        },
        {
         "name": "homepage",
         "rawType": "object",
         "type": "unknown"
        },
        {
         "name": "id",
         "rawType": "object",
         "type": "string"
        },
        {
         "name": "imdb_id",
         "rawType": "object",
         "type": "string"
        },
        {
         "name": "original_language",
         "rawType": "object",
         "type": "string"
        },
        {
         "name": "original_title",
         "rawType": "object",
         "type": "string"
        },
        {
         "name": "overview",
         "rawType": "object",
         "type": "string"
        },
        {
         "name": "popularity",
         "rawType": "object",
         "type": "string"
        },
        {
         "name": "poster_path",
         "rawType": "object",
         "type": "string"
        },
        {
         "name": "production_companies",
         "rawType": "object",
         "type": "string"
        },
        {
         "name": "production_countries",
         "rawType": "object",
         "type": "string"
        },
        {
         "name": "release_date",
         "rawType": "object",
         "type": "string"
        },
        {
         "name": "revenue",
         "rawType": "float64",
         "type": "float"
        },
        {
         "name": "runtime",
         "rawType": "float64",
         "type": "float"
        },
        {
         "name": "spoken_languages",
         "rawType": "object",
         "type": "string"
        },
        {
         "name": "status",
         "rawType": "object",
         "type": "string"
        },
        {
         "name": "tagline",
         "rawType": "object",
         "type": "unknown"
        },
        {
         "name": "title",
         "rawType": "object",
         "type": "string"
        },
        {
         "name": "video",
         "rawType": "object",
         "type": "unknown"
        },
        {
         "name": "vote_average",
         "rawType": "float64",
         "type": "float"
        },
        {
         "name": "vote_count",
         "rawType": "float64",
         "type": "float"
        }
       ],
       "ref": "6cbdb6a5-ff04-4aa6-a337-e92321262827",
       "rows": [
        [
         "0",
         "False",
         "{'id': 10194, 'name': 'Toy Story Collection', 'poster_path': '/7G9915LfUQ2lVfwMEEhDsn3kT4B.jpg', 'backdrop_path': '/9FBwqcd9IRruEDUrTdcaafOMKUq.jpg'}",
         "30000000",
         "[{'id': 16, 'name': 'Animation'}, {'id': 35, 'name': 'Comedy'}, {'id': 10751, 'name': 'Family'}]",
         "http://toystory.disney.com/toy-story",
         "862",
         "tt0114709",
         "en",
         "Toy Story",
         "Led by Woody, Andy's toys live happily in his room until Andy's birthday brings Buzz Lightyear onto the scene. Afraid of losing his place in Andy's heart, Woody plots against Buzz. But when circumstances separate Buzz and Woody from their owner, the duo eventually learns to put aside their differences.",
         "21.946943",
         "/rhIRbceoE9lR4veEXuwCC2wARtG.jpg",
         "[{'name': 'Pixar Animation Studios', 'id': 3}]",
         "[{'iso_3166_1': 'US', 'name': 'United States of America'}]",
         "1995-10-30",
         "373554033.0",
         "81.0",
         "[{'iso_639_1': 'en', 'name': 'English'}]",
         "Released",
         null,
         "Toy Story",
         "False",
         "7.7",
         "5415.0"
        ],
        [
         "1",
         "False",
         null,
         "65000000",
         "[{'id': 12, 'name': 'Adventure'}, {'id': 14, 'name': 'Fantasy'}, {'id': 10751, 'name': 'Family'}]",
         null,
         "8844",
         "tt0113497",
         "en",
         "Jumanji",
         "When siblings Judy and Peter discover an enchanted board game that opens the door to a magical world, they unwittingly invite Alan -- an adult who's been trapped inside the game for 26 years -- into their living room. Alan's only hope for freedom is to finish the game, which proves risky as all three find themselves running from giant rhinoceroses, evil monkeys and other terrifying creatures.",
         "17.015539",
         "/vzmL6fP7aPKNKPRTFnZmiUfciyV.jpg",
         "[{'name': 'TriStar Pictures', 'id': 559}, {'name': 'Teitler Film', 'id': 2550}, {'name': 'Interscope Communications', 'id': 10201}]",
         "[{'iso_3166_1': 'US', 'name': 'United States of America'}]",
         "1995-12-15",
         "262797249.0",
         "104.0",
         "[{'iso_639_1': 'en', 'name': 'English'}, {'iso_639_1': 'fr', 'name': 'Français'}]",
         "Released",
         "Roll the dice and unleash the excitement!",
         "Jumanji",
         "False",
         "6.9",
         "2413.0"
        ],
        [
         "2",
         "False",
         "{'id': 119050, 'name': 'Grumpy Old Men Collection', 'poster_path': '/nLvUdqgPgm3F85NMCii9gVFUcet.jpg', 'backdrop_path': '/hypTnLot2z8wpFS7qwsQHW1uV8u.jpg'}",
         "0",
         "[{'id': 10749, 'name': 'Romance'}, {'id': 35, 'name': 'Comedy'}]",
         null,
         "15602",
         "tt0113228",
         "en",
         "Grumpier Old Men",
         "A family wedding reignites the ancient feud between next-door neighbors and fishing buddies John and Max. Meanwhile, a sultry Italian divorcée opens a restaurant at the local bait shop, alarming the locals who worry she'll scare the fish away. But she's less interested in seafood than she is in cooking up a hot time with Max.",
         "11.7129",
         "/6ksm1sjKMFLbO7UY2i6G1ju9SML.jpg",
         "[{'name': 'Warner Bros.', 'id': 6194}, {'name': 'Lancaster Gate', 'id': 19464}]",
         "[{'iso_3166_1': 'US', 'name': 'United States of America'}]",
         "1995-12-22",
         "0.0",
         "101.0",
         "[{'iso_639_1': 'en', 'name': 'English'}]",
         "Released",
         "Still Yelling. Still Fighting. Still Ready for Love.",
         "Grumpier Old Men",
         "False",
         "6.5",
         "92.0"
        ],
        [
         "3",
         "False",
         null,
         "16000000",
         "[{'id': 35, 'name': 'Comedy'}, {'id': 18, 'name': 'Drama'}, {'id': 10749, 'name': 'Romance'}]",
         null,
         "31357",
         "tt0114885",
         "en",
         "Waiting to Exhale",
         "Cheated on, mistreated and stepped on, the women are holding their breath, waiting for the elusive \"good man\" to break a string of less-than-stellar lovers. Friends and confidants Vannah, Bernie, Glo and Robin talk it all out, determined to find a better way to breathe.",
         "3.859495",
         "/16XOMpEaLWkrcPqSQqhTmeJuqQl.jpg",
         "[{'name': 'Twentieth Century Fox Film Corporation', 'id': 306}]",
         "[{'iso_3166_1': 'US', 'name': 'United States of America'}]",
         "1995-12-22",
         "81452156.0",
         "127.0",
         "[{'iso_639_1': 'en', 'name': 'English'}]",
         "Released",
         "Friends are the people who let you be yourself... and never let you forget it.",
         "Waiting to Exhale",
         "False",
         "6.1",
         "34.0"
        ],
        [
         "4",
         "False",
         "{'id': 96871, 'name': 'Father of the Bride Collection', 'poster_path': '/nts4iOmNnq7GNicycMJ9pSAn204.jpg', 'backdrop_path': '/7qwE57OVZmMJChBpLEbJEmzUydk.jpg'}",
         "0",
         "[{'id': 35, 'name': 'Comedy'}]",
         null,
         "11862",
         "tt0113041",
         "en",
         "Father of the Bride Part II",
         "Just when George Banks has recovered from his daughter's wedding, he receives the news that she's pregnant ... and that George's wife, Nina, is expecting too. He was planning on selling their home, but that's a plan that -- like George -- will have to change with the arrival of both a grandchild and a kid of his own.",
         "8.387519",
         "/e64sOI48hQXyru7naBFyssKFxVd.jpg",
         "[{'name': 'Sandollar Productions', 'id': 5842}, {'name': 'Touchstone Pictures', 'id': 9195}]",
         "[{'iso_3166_1': 'US', 'name': 'United States of America'}]",
         "1995-02-10",
         "76578911.0",
         "106.0",
         "[{'iso_639_1': 'en', 'name': 'English'}]",
         "Released",
         "Just When His World Is Back To Normal... He's In For The Surprise Of His Life!",
         "Father of the Bride Part II",
         "False",
         "5.7",
         "173.0"
        ]
       ],
       "shape": {
        "columns": 24,
        "rows": 5
       }
      },
      "text/html": [
       "<div>\n",
       "<style scoped>\n",
       "    .dataframe tbody tr th:only-of-type {\n",
       "        vertical-align: middle;\n",
       "    }\n",
       "\n",
       "    .dataframe tbody tr th {\n",
       "        vertical-align: top;\n",
       "    }\n",
       "\n",
       "    .dataframe thead th {\n",
       "        text-align: right;\n",
       "    }\n",
       "</style>\n",
       "<table border=\"1\" class=\"dataframe\">\n",
       "  <thead>\n",
       "    <tr style=\"text-align: right;\">\n",
       "      <th></th>\n",
       "      <th>adult</th>\n",
       "      <th>belongs_to_collection</th>\n",
       "      <th>budget</th>\n",
       "      <th>genres</th>\n",
       "      <th>homepage</th>\n",
       "      <th>id</th>\n",
       "      <th>imdb_id</th>\n",
       "      <th>original_language</th>\n",
       "      <th>original_title</th>\n",
       "      <th>overview</th>\n",
       "      <th>...</th>\n",
       "      <th>release_date</th>\n",
       "      <th>revenue</th>\n",
       "      <th>runtime</th>\n",
       "      <th>spoken_languages</th>\n",
       "      <th>status</th>\n",
       "      <th>tagline</th>\n",
       "      <th>title</th>\n",
       "      <th>video</th>\n",
       "      <th>vote_average</th>\n",
       "      <th>vote_count</th>\n",
       "    </tr>\n",
       "  </thead>\n",
       "  <tbody>\n",
       "    <tr>\n",
       "      <th>0</th>\n",
       "      <td>False</td>\n",
       "      <td>{'id': 10194, 'name': 'Toy Story Collection', ...</td>\n",
       "      <td>30000000</td>\n",
       "      <td>[{'id': 16, 'name': 'Animation'}, {'id': 35, '...</td>\n",
       "      <td>http://toystory.disney.com/toy-story</td>\n",
       "      <td>862</td>\n",
       "      <td>tt0114709</td>\n",
       "      <td>en</td>\n",
       "      <td>Toy Story</td>\n",
       "      <td>Led by Woody, Andy's toys live happily in his ...</td>\n",
       "      <td>...</td>\n",
       "      <td>1995-10-30</td>\n",
       "      <td>373554033.0</td>\n",
       "      <td>81.0</td>\n",
       "      <td>[{'iso_639_1': 'en', 'name': 'English'}]</td>\n",
       "      <td>Released</td>\n",
       "      <td>NaN</td>\n",
       "      <td>Toy Story</td>\n",
       "      <td>False</td>\n",
       "      <td>7.7</td>\n",
       "      <td>5415.0</td>\n",
       "    </tr>\n",
       "    <tr>\n",
       "      <th>1</th>\n",
       "      <td>False</td>\n",
       "      <td>NaN</td>\n",
       "      <td>65000000</td>\n",
       "      <td>[{'id': 12, 'name': 'Adventure'}, {'id': 14, '...</td>\n",
       "      <td>NaN</td>\n",
       "      <td>8844</td>\n",
       "      <td>tt0113497</td>\n",
       "      <td>en</td>\n",
       "      <td>Jumanji</td>\n",
       "      <td>When siblings Judy and Peter discover an encha...</td>\n",
       "      <td>...</td>\n",
       "      <td>1995-12-15</td>\n",
       "      <td>262797249.0</td>\n",
       "      <td>104.0</td>\n",
       "      <td>[{'iso_639_1': 'en', 'name': 'English'}, {'iso...</td>\n",
       "      <td>Released</td>\n",
       "      <td>Roll the dice and unleash the excitement!</td>\n",
       "      <td>Jumanji</td>\n",
       "      <td>False</td>\n",
       "      <td>6.9</td>\n",
       "      <td>2413.0</td>\n",
       "    </tr>\n",
       "    <tr>\n",
       "      <th>2</th>\n",
       "      <td>False</td>\n",
       "      <td>{'id': 119050, 'name': 'Grumpy Old Men Collect...</td>\n",
       "      <td>0</td>\n",
       "      <td>[{'id': 10749, 'name': 'Romance'}, {'id': 35, ...</td>\n",
       "      <td>NaN</td>\n",
       "      <td>15602</td>\n",
       "      <td>tt0113228</td>\n",
       "      <td>en</td>\n",
       "      <td>Grumpier Old Men</td>\n",
       "      <td>A family wedding reignites the ancient feud be...</td>\n",
       "      <td>...</td>\n",
       "      <td>1995-12-22</td>\n",
       "      <td>0.0</td>\n",
       "      <td>101.0</td>\n",
       "      <td>[{'iso_639_1': 'en', 'name': 'English'}]</td>\n",
       "      <td>Released</td>\n",
       "      <td>Still Yelling. Still Fighting. Still Ready for...</td>\n",
       "      <td>Grumpier Old Men</td>\n",
       "      <td>False</td>\n",
       "      <td>6.5</td>\n",
       "      <td>92.0</td>\n",
       "    </tr>\n",
       "    <tr>\n",
       "      <th>3</th>\n",
       "      <td>False</td>\n",
       "      <td>NaN</td>\n",
       "      <td>16000000</td>\n",
       "      <td>[{'id': 35, 'name': 'Comedy'}, {'id': 18, 'nam...</td>\n",
       "      <td>NaN</td>\n",
       "      <td>31357</td>\n",
       "      <td>tt0114885</td>\n",
       "      <td>en</td>\n",
       "      <td>Waiting to Exhale</td>\n",
       "      <td>Cheated on, mistreated and stepped on, the wom...</td>\n",
       "      <td>...</td>\n",
       "      <td>1995-12-22</td>\n",
       "      <td>81452156.0</td>\n",
       "      <td>127.0</td>\n",
       "      <td>[{'iso_639_1': 'en', 'name': 'English'}]</td>\n",
       "      <td>Released</td>\n",
       "      <td>Friends are the people who let you be yourself...</td>\n",
       "      <td>Waiting to Exhale</td>\n",
       "      <td>False</td>\n",
       "      <td>6.1</td>\n",
       "      <td>34.0</td>\n",
       "    </tr>\n",
       "    <tr>\n",
       "      <th>4</th>\n",
       "      <td>False</td>\n",
       "      <td>{'id': 96871, 'name': 'Father of the Bride Col...</td>\n",
       "      <td>0</td>\n",
       "      <td>[{'id': 35, 'name': 'Comedy'}]</td>\n",
       "      <td>NaN</td>\n",
       "      <td>11862</td>\n",
       "      <td>tt0113041</td>\n",
       "      <td>en</td>\n",
       "      <td>Father of the Bride Part II</td>\n",
       "      <td>Just when George Banks has recovered from his ...</td>\n",
       "      <td>...</td>\n",
       "      <td>1995-02-10</td>\n",
       "      <td>76578911.0</td>\n",
       "      <td>106.0</td>\n",
       "      <td>[{'iso_639_1': 'en', 'name': 'English'}]</td>\n",
       "      <td>Released</td>\n",
       "      <td>Just When His World Is Back To Normal... He's ...</td>\n",
       "      <td>Father of the Bride Part II</td>\n",
       "      <td>False</td>\n",
       "      <td>5.7</td>\n",
       "      <td>173.0</td>\n",
       "    </tr>\n",
       "  </tbody>\n",
       "</table>\n",
       "<p>5 rows × 24 columns</p>\n",
       "</div>"
      ],
      "text/plain": [
       "   adult                              belongs_to_collection    budget   \n",
       "0  False  {'id': 10194, 'name': 'Toy Story Collection', ...  30000000  \\\n",
       "1  False                                                NaN  65000000   \n",
       "2  False  {'id': 119050, 'name': 'Grumpy Old Men Collect...         0   \n",
       "3  False                                                NaN  16000000   \n",
       "4  False  {'id': 96871, 'name': 'Father of the Bride Col...         0   \n",
       "\n",
       "                                              genres   \n",
       "0  [{'id': 16, 'name': 'Animation'}, {'id': 35, '...  \\\n",
       "1  [{'id': 12, 'name': 'Adventure'}, {'id': 14, '...   \n",
       "2  [{'id': 10749, 'name': 'Romance'}, {'id': 35, ...   \n",
       "3  [{'id': 35, 'name': 'Comedy'}, {'id': 18, 'nam...   \n",
       "4                     [{'id': 35, 'name': 'Comedy'}]   \n",
       "\n",
       "                               homepage     id    imdb_id original_language   \n",
       "0  http://toystory.disney.com/toy-story    862  tt0114709                en  \\\n",
       "1                                   NaN   8844  tt0113497                en   \n",
       "2                                   NaN  15602  tt0113228                en   \n",
       "3                                   NaN  31357  tt0114885                en   \n",
       "4                                   NaN  11862  tt0113041                en   \n",
       "\n",
       "                original_title   \n",
       "0                    Toy Story  \\\n",
       "1                      Jumanji   \n",
       "2             Grumpier Old Men   \n",
       "3            Waiting to Exhale   \n",
       "4  Father of the Bride Part II   \n",
       "\n",
       "                                            overview  ... release_date   \n",
       "0  Led by Woody, Andy's toys live happily in his ...  ...   1995-10-30  \\\n",
       "1  When siblings Judy and Peter discover an encha...  ...   1995-12-15   \n",
       "2  A family wedding reignites the ancient feud be...  ...   1995-12-22   \n",
       "3  Cheated on, mistreated and stepped on, the wom...  ...   1995-12-22   \n",
       "4  Just when George Banks has recovered from his ...  ...   1995-02-10   \n",
       "\n",
       "       revenue runtime                                   spoken_languages   \n",
       "0  373554033.0    81.0           [{'iso_639_1': 'en', 'name': 'English'}]  \\\n",
       "1  262797249.0   104.0  [{'iso_639_1': 'en', 'name': 'English'}, {'iso...   \n",
       "2          0.0   101.0           [{'iso_639_1': 'en', 'name': 'English'}]   \n",
       "3   81452156.0   127.0           [{'iso_639_1': 'en', 'name': 'English'}]   \n",
       "4   76578911.0   106.0           [{'iso_639_1': 'en', 'name': 'English'}]   \n",
       "\n",
       "     status                                            tagline   \n",
       "0  Released                                                NaN  \\\n",
       "1  Released          Roll the dice and unleash the excitement!   \n",
       "2  Released  Still Yelling. Still Fighting. Still Ready for...   \n",
       "3  Released  Friends are the people who let you be yourself...   \n",
       "4  Released  Just When His World Is Back To Normal... He's ...   \n",
       "\n",
       "                         title  video vote_average vote_count  \n",
       "0                    Toy Story  False          7.7     5415.0  \n",
       "1                      Jumanji  False          6.9     2413.0  \n",
       "2             Grumpier Old Men  False          6.5       92.0  \n",
       "3            Waiting to Exhale  False          6.1       34.0  \n",
       "4  Father of the Bride Part II  False          5.7      173.0  \n",
       "\n",
       "[5 rows x 24 columns]"
      ]
     },
     "execution_count": 4,
     "metadata": {},
     "output_type": "execute_result"
    }
   ],
   "source": [
    "#First look at raw data\n",
    "movies_pd = pd.read_csv(MOVIES_FILE, low_memory=False)\n",
    "movies_pd.head()"
   ]
  },
  {
   "cell_type": "code",
   "execution_count": 5,
   "id": "d091c7a3",
   "metadata": {},
   "outputs": [
    {
     "name": "stdout",
     "output_type": "stream",
     "text": [
      "<class 'pandas.core.frame.DataFrame'>\n",
      "RangeIndex: 45466 entries, 0 to 45465\n",
      "Data columns (total 24 columns):\n",
      " #   Column                 Non-Null Count  Dtype  \n",
      "---  ------                 --------------  -----  \n",
      " 0   adult                  45466 non-null  object \n",
      " 1   belongs_to_collection  4494 non-null   object \n",
      " 2   budget                 45466 non-null  object \n",
      " 3   genres                 45466 non-null  object \n",
      " 4   homepage               7782 non-null   object \n",
      " 5   id                     45466 non-null  object \n",
      " 6   imdb_id                45449 non-null  object \n",
      " 7   original_language      45455 non-null  object \n",
      " 8   original_title         45466 non-null  object \n",
      " 9   overview               44512 non-null  object \n",
      " 10  popularity             45461 non-null  object \n",
      " 11  poster_path            45080 non-null  object \n",
      " 12  production_companies   45463 non-null  object \n",
      " 13  production_countries   45463 non-null  object \n",
      " 14  release_date           45379 non-null  object \n",
      " 15  revenue                45460 non-null  float64\n",
      " 16  runtime                45203 non-null  float64\n",
      " 17  spoken_languages       45460 non-null  object \n",
      " 18  status                 45379 non-null  object \n",
      " 19  tagline                20412 non-null  object \n",
      " 20  title                  45460 non-null  object \n",
      " 21  video                  45460 non-null  object \n",
      " 22  vote_average           45460 non-null  float64\n",
      " 23  vote_count             45460 non-null  float64\n",
      "dtypes: float64(4), object(20)\n",
      "memory usage: 8.3+ MB\n"
     ]
    }
   ],
   "source": [
    "#df info\n",
    "movies_pd.info()"
   ]
  },
  {
   "cell_type": "markdown",
   "id": "190134fa",
   "metadata": {},
   "source": [
    "Since data will be used as context in RAG, null values are acteptable in some cases.\n",
    "Non-null variables are: id, title and overview"
   ]
  },
  {
   "cell_type": "code",
   "execution_count": 6,
   "id": "c0bbe76e",
   "metadata": {},
   "outputs": [],
   "source": [
    "#Remove unneccessary columns \n",
    "columns_to_remove = ['adult','homepage', 'poster_path', 'status', 'video', 'tagline']\n",
    "movies_pd = movies_pd.drop(columns=columns_to_remove)"
   ]
  },
  {
   "cell_type": "code",
   "execution_count": 7,
   "id": "e1629291",
   "metadata": {},
   "outputs": [
    {
     "name": "stdout",
     "output_type": "stream",
     "text": [
      "<class 'pandas.core.frame.DataFrame'>\n",
      "RangeIndex: 45466 entries, 0 to 45465\n",
      "Data columns (total 18 columns):\n",
      " #   Column                 Non-Null Count  Dtype  \n",
      "---  ------                 --------------  -----  \n",
      " 0   belongs_to_collection  4494 non-null   object \n",
      " 1   budget                 45466 non-null  object \n",
      " 2   genres                 45466 non-null  object \n",
      " 3   id                     45466 non-null  object \n",
      " 4   imdb_id                45449 non-null  object \n",
      " 5   original_language      45455 non-null  object \n",
      " 6   original_title         45466 non-null  object \n",
      " 7   overview               44512 non-null  object \n",
      " 8   popularity             45461 non-null  object \n",
      " 9   production_companies   45463 non-null  object \n",
      " 10  production_countries   45463 non-null  object \n",
      " 11  release_date           45379 non-null  object \n",
      " 12  revenue                45460 non-null  float64\n",
      " 13  runtime                45203 non-null  float64\n",
      " 14  spoken_languages       45460 non-null  object \n",
      " 15  title                  45460 non-null  object \n",
      " 16  vote_average           45460 non-null  float64\n",
      " 17  vote_count             45460 non-null  float64\n",
      "dtypes: float64(4), object(14)\n",
      "memory usage: 6.2+ MB\n"
     ]
    }
   ],
   "source": [
    "#df info\n",
    "movies_pd.info()"
   ]
  },
  {
   "cell_type": "code",
   "execution_count": 8,
   "id": "02259ea4",
   "metadata": {},
   "outputs": [],
   "source": [
    "#Droping null values in id, title and overview\n",
    "movies_pd = movies_pd.dropna(subset=['id', 'title', 'overview'])\n",
    "\n",
    "#Since title and overview are strings, empty strings are considered null values\n",
    "movies_pd = movies_pd[movies_pd['overview'].str.strip().astype(bool)]\n",
    "movies_pd = movies_pd[movies_pd['title'].str.strip().astype(bool)]"
   ]
  },
  {
   "cell_type": "code",
   "execution_count": 9,
   "id": "2eebea9d",
   "metadata": {},
   "outputs": [
    {
     "name": "stdout",
     "output_type": "stream",
     "text": [
      "<class 'pandas.core.frame.DataFrame'>\n",
      "Index: 44501 entries, 0 to 45465\n",
      "Data columns (total 18 columns):\n",
      " #   Column                 Non-Null Count  Dtype  \n",
      "---  ------                 --------------  -----  \n",
      " 0   belongs_to_collection  4431 non-null   object \n",
      " 1   budget                 44501 non-null  object \n",
      " 2   genres                 44501 non-null  object \n",
      " 3   id                     44501 non-null  object \n",
      " 4   imdb_id                44486 non-null  object \n",
      " 5   original_language      44491 non-null  object \n",
      " 6   original_title         44501 non-null  object \n",
      " 7   overview               44501 non-null  object \n",
      " 8   popularity             44501 non-null  object \n",
      " 9   production_companies   44501 non-null  object \n",
      " 10  production_countries   44501 non-null  object \n",
      " 11  release_date           44430 non-null  object \n",
      " 12  revenue                44501 non-null  float64\n",
      " 13  runtime                44501 non-null  float64\n",
      " 14  spoken_languages       44501 non-null  object \n",
      " 15  title                  44501 non-null  object \n",
      " 16  vote_average           44501 non-null  float64\n",
      " 17  vote_count             44501 non-null  float64\n",
      "dtypes: float64(4), object(14)\n",
      "memory usage: 6.5+ MB\n"
     ]
    }
   ],
   "source": [
    "#df info\n",
    "movies_pd.info()"
   ]
  },
  {
   "cell_type": "markdown",
   "id": "d135ed8e",
   "metadata": {},
   "source": [
    "Changing datatypes"
   ]
  },
  {
   "cell_type": "code",
   "execution_count": 10,
   "id": "cedb364b",
   "metadata": {},
   "outputs": [],
   "source": [
    "#Objects to int or float\n",
    "types_to_convert = ['budget', 'id', 'popularity', 'revenue', 'runtime', 'vote_average', 'vote_count']\n",
    "for columns in types_to_convert:\n",
    "    movies_pd[columns] = pd.to_numeric(movies_pd[columns], errors='coerce')\n"
   ]
  },
  {
   "cell_type": "code",
   "execution_count": 11,
   "id": "1d0f4d7d",
   "metadata": {},
   "outputs": [],
   "source": [
    "#Changing release_date to datetime\n",
    "movies_pd['release_date'] = pd.to_datetime(movies_pd['release_date'], errors='coerce')"
   ]
  },
  {
   "cell_type": "code",
   "execution_count": 12,
   "id": "37635e4f",
   "metadata": {},
   "outputs": [],
   "source": [
    "#Translating original_language from ISO 639-1 to English\n",
    "movies_pd['original_language'] = movies_pd['original_language'].apply(lambda x: iso_639_dict.get(x, None))"
   ]
  },
  {
   "cell_type": "code",
   "execution_count": 13,
   "id": "04faa29a",
   "metadata": {},
   "outputs": [
    {
     "name": "stdout",
     "output_type": "stream",
     "text": [
      "<class 'pandas.core.frame.DataFrame'>\n",
      "Index: 44501 entries, 0 to 45465\n",
      "Data columns (total 18 columns):\n",
      " #   Column                 Non-Null Count  Dtype         \n",
      "---  ------                 --------------  -----         \n",
      " 0   belongs_to_collection  4431 non-null   object        \n",
      " 1   budget                 44501 non-null  int64         \n",
      " 2   genres                 44501 non-null  object        \n",
      " 3   id                     44501 non-null  int64         \n",
      " 4   imdb_id                44486 non-null  object        \n",
      " 5   original_language      44140 non-null  object        \n",
      " 6   original_title         44501 non-null  object        \n",
      " 7   overview               44501 non-null  object        \n",
      " 8   popularity             44501 non-null  float64       \n",
      " 9   production_companies   44501 non-null  object        \n",
      " 10  production_countries   44501 non-null  object        \n",
      " 11  release_date           44430 non-null  datetime64[ns]\n",
      " 12  revenue                44501 non-null  float64       \n",
      " 13  runtime                44501 non-null  float64       \n",
      " 14  spoken_languages       44501 non-null  object        \n",
      " 15  title                  44501 non-null  object        \n",
      " 16  vote_average           44501 non-null  float64       \n",
      " 17  vote_count             44501 non-null  float64       \n",
      "dtypes: datetime64[ns](1), float64(5), int64(2), object(10)\n",
      "memory usage: 6.5+ MB\n"
     ]
    }
   ],
   "source": [
    "#df info\n",
    "movies_pd.info()"
   ]
  },
  {
   "cell_type": "markdown",
   "id": "a8158efc",
   "metadata": {},
   "source": [
    "Droping duplicates"
   ]
  },
  {
   "cell_type": "code",
   "execution_count": 14,
   "id": "1e204cc0",
   "metadata": {},
   "outputs": [],
   "source": [
    "#Droping duplicates\n",
    "movies_pd = movies_pd.drop_duplicates()"
   ]
  },
  {
   "cell_type": "code",
   "execution_count": 15,
   "id": "df064e67",
   "metadata": {},
   "outputs": [
    {
     "name": "stdout",
     "output_type": "stream",
     "text": [
      "<class 'pandas.core.frame.DataFrame'>\n",
      "Index: 44484 entries, 0 to 45465\n",
      "Data columns (total 18 columns):\n",
      " #   Column                 Non-Null Count  Dtype         \n",
      "---  ------                 --------------  -----         \n",
      " 0   belongs_to_collection  4430 non-null   object        \n",
      " 1   budget                 44484 non-null  int64         \n",
      " 2   genres                 44484 non-null  object        \n",
      " 3   id                     44484 non-null  int64         \n",
      " 4   imdb_id                44469 non-null  object        \n",
      " 5   original_language      44123 non-null  object        \n",
      " 6   original_title         44484 non-null  object        \n",
      " 7   overview               44484 non-null  object        \n",
      " 8   popularity             44484 non-null  float64       \n",
      " 9   production_companies   44484 non-null  object        \n",
      " 10  production_countries   44484 non-null  object        \n",
      " 11  release_date           44413 non-null  datetime64[ns]\n",
      " 12  revenue                44484 non-null  float64       \n",
      " 13  runtime                44484 non-null  float64       \n",
      " 14  spoken_languages       44484 non-null  object        \n",
      " 15  title                  44484 non-null  object        \n",
      " 16  vote_average           44484 non-null  float64       \n",
      " 17  vote_count             44484 non-null  float64       \n",
      "dtypes: datetime64[ns](1), float64(5), int64(2), object(10)\n",
      "memory usage: 6.4+ MB\n"
     ]
    }
   ],
   "source": [
    "#df info\n",
    "movies_pd.info()"
   ]
  },
  {
   "cell_type": "markdown",
   "id": "5ab5a80f",
   "metadata": {},
   "source": [
    "Changing 0 into None in numeric data"
   ]
  },
  {
   "cell_type": "code",
   "execution_count": 16,
   "id": "454ba925",
   "metadata": {},
   "outputs": [],
   "source": [
    "#Changing 0 into None in numeric data\n",
    "columns = ['budget', 'popularity', 'revenue', 'runtime', 'vote_average', 'vote_count']\n",
    "for col in columns:\n",
    "    movies_pd[col] = movies_pd[col].replace(0, None)"
   ]
  },
  {
   "cell_type": "markdown",
   "id": "bd5b1619",
   "metadata": {},
   "source": [
    "Data such as collection, genres, languages, production companies, countries will be stored as additional nodes in NeoJ4 database. Because of that every of these variables will be saved in additional files. Rest of variables will be saved in one file, that will be used to create movie nodes in NeoJ4."
   ]
  },
  {
   "cell_type": "code",
   "execution_count": 17,
   "id": "24e11ad7",
   "metadata": {},
   "outputs": [],
   "source": [
    "#Saving cleaned dataframe\n",
    "columns_to_save = ['id', 'title', 'original_title', 'overview', 'release_date', 'budget', 'popularity', 'revenue', 'runtime', 'vote_average', 'vote_count']\n",
    "movies_pd[columns_to_save].to_csv(CLEAN_MOVIES_FILE, index=False)"
   ]
  },
  {
   "cell_type": "markdown",
   "id": "a7a7610a",
   "metadata": {},
   "source": [
    "## TRASNFORMING COLLECTIONS TO ADDITIONAL DATAFRAME"
   ]
  },
  {
   "cell_type": "code",
   "execution_count": 18,
   "id": "0274d1a2",
   "metadata": {},
   "outputs": [],
   "source": [
    "#Creating df for collections\n",
    "collections_df = movies_pd[['id', 'belongs_to_collection']].dropna()"
   ]
  },
  {
   "cell_type": "code",
   "execution_count": 19,
   "id": "deaba74d",
   "metadata": {},
   "outputs": [],
   "source": [
    "#Extract collection id and name for each movie\n",
    "collection_rows = []\n",
    "for idx, row in collections_df.iterrows():\n",
    "    movie_id = row['id']\n",
    "    collection = row['belongs_to_collection']\n",
    "    if isinstance(collection, str):\n",
    "        try:\n",
    "            collection = ast.literal_eval(collection)\n",
    "        except Exception:\n",
    "            collection = None\n",
    "    if isinstance(collection, dict):\n",
    "        collection_id = collection.get('id')\n",
    "        collection_name = collection.get('name')\n",
    "        collection_rows.append({\n",
    "            'movie_id': movie_id,\n",
    "            'collection_id': collection_id,\n",
    "            'collection_name': collection_name\n",
    "        })\n",
    "    else:\n",
    "        print(f\"Skipping invalid collection data for movie_id {movie_id}\")\n",
    "collections_df = pd.DataFrame(collection_rows)"
   ]
  },
  {
   "cell_type": "code",
   "execution_count": 20,
   "id": "95ec8e22",
   "metadata": {},
   "outputs": [
    {
     "name": "stdout",
     "output_type": "stream",
     "text": [
      "<class 'pandas.core.frame.DataFrame'>\n",
      "RangeIndex: 4430 entries, 0 to 4429\n",
      "Data columns (total 3 columns):\n",
      " #   Column           Non-Null Count  Dtype \n",
      "---  ------           --------------  ----- \n",
      " 0   movie_id         4430 non-null   int64 \n",
      " 1   collection_id    4430 non-null   int64 \n",
      " 2   collection_name  4430 non-null   object\n",
      "dtypes: int64(2), object(1)\n",
      "memory usage: 104.0+ KB\n"
     ]
    }
   ],
   "source": [
    "#df info\n",
    "collections_df.info()"
   ]
  },
  {
   "cell_type": "code",
   "execution_count": 21,
   "id": "6298bfba",
   "metadata": {},
   "outputs": [],
   "source": [
    "#Cleaning Na values in collection_id and empty strings in collection_name\n",
    "collections_df = collections_df.dropna(subset=['collection_id'])\n",
    "collections_df = collections_df[collections_df['collection_name'].str.strip().astype(bool)]"
   ]
  },
  {
   "cell_type": "code",
   "execution_count": 22,
   "id": "36da81a2",
   "metadata": {},
   "outputs": [],
   "source": [
    "#Save collections dataframe to csv\n",
    "collections_df.to_csv(COLLECTIONS_FILE, index=False)"
   ]
  },
  {
   "cell_type": "markdown",
   "id": "499a26fd",
   "metadata": {},
   "source": [
    "## TRANSFORMING GENRES INTO ADDITIONAL DATAFRAME"
   ]
  },
  {
   "cell_type": "code",
   "execution_count": 23,
   "id": "5ddf6dc4",
   "metadata": {},
   "outputs": [],
   "source": [
    "#Creating df fo genres\n",
    "genres_df = movies_pd[['id', 'genres']].dropna()"
   ]
  },
  {
   "cell_type": "code",
   "execution_count": 24,
   "id": "9fe68659",
   "metadata": {},
   "outputs": [
    {
     "name": "stdout",
     "output_type": "stream",
     "text": [
      "<class 'pandas.core.frame.DataFrame'>\n",
      "Index: 44484 entries, 0 to 45465\n",
      "Data columns (total 2 columns):\n",
      " #   Column  Non-Null Count  Dtype \n",
      "---  ------  --------------  ----- \n",
      " 0   id      44484 non-null  int64 \n",
      " 1   genres  44484 non-null  object\n",
      "dtypes: int64(1), object(1)\n",
      "memory usage: 1.0+ MB\n"
     ]
    }
   ],
   "source": [
    "#df info\n",
    "genres_df.info()"
   ]
  },
  {
   "cell_type": "code",
   "execution_count": 25,
   "id": "8936b4b3",
   "metadata": {},
   "outputs": [],
   "source": [
    "#Extract genre id and name for each movie\n",
    "genre_rows = []\n",
    "for idx, row in genres_df.iterrows():\n",
    "    movie_id = row['id']\n",
    "    genres_list = row['genres']\n",
    "    if isinstance(genres_list, str):\n",
    "        try:\n",
    "            genres_list = ast.literal_eval(genres_list)\n",
    "        except Exception:\n",
    "            genres_list = []\n",
    "    for genre in genres_list:\n",
    "        if isinstance(genre, dict):\n",
    "            genre_id = genre.get('id')\n",
    "            genre_name = genre.get('name')\n",
    "            genre_rows.append({\n",
    "                'movie_id': movie_id,\n",
    "                'genre_id': genre_id,\n",
    "                'genre_name': genre_name\n",
    "            })\n",
    "        else:\n",
    "            print(f\"Skipping invalid genre data for movie_id {movie_id}\")\n",
    "genres_df = pd.DataFrame(genre_rows)"
   ]
  },
  {
   "cell_type": "code",
   "execution_count": 26,
   "id": "bfa67384",
   "metadata": {},
   "outputs": [
    {
     "name": "stdout",
     "output_type": "stream",
     "text": [
      "<class 'pandas.core.frame.DataFrame'>\n",
      "RangeIndex: 89968 entries, 0 to 89967\n",
      "Data columns (total 3 columns):\n",
      " #   Column      Non-Null Count  Dtype \n",
      "---  ------      --------------  ----- \n",
      " 0   movie_id    89968 non-null  int64 \n",
      " 1   genre_id    89968 non-null  int64 \n",
      " 2   genre_name  89968 non-null  object\n",
      "dtypes: int64(2), object(1)\n",
      "memory usage: 2.1+ MB\n"
     ]
    }
   ],
   "source": [
    "#df info\n",
    "genres_df.info()"
   ]
  },
  {
   "cell_type": "code",
   "execution_count": 27,
   "id": "8738eb17",
   "metadata": {},
   "outputs": [],
   "source": [
    "#Clearing Na values in genre_id and empty strings in genre_name\n",
    "genres_df = genres_df.dropna(subset=['genre_id'])\n",
    "genres_df = genres_df[genres_df['genre_name'].str.strip().astype(bool)]"
   ]
  },
  {
   "cell_type": "code",
   "execution_count": 28,
   "id": "c76ac183",
   "metadata": {},
   "outputs": [],
   "source": [
    "#Saving genres dataframe to csv\n",
    "genres_df.to_csv(GENRE_FILE, index=False)"
   ]
  },
  {
   "cell_type": "markdown",
   "id": "445c574e",
   "metadata": {},
   "source": [
    "## TRANSFORFMING PRODUCTION COMPANIES INTO ADDITIONAL DATAFRAME"
   ]
  },
  {
   "cell_type": "code",
   "execution_count": 29,
   "id": "36b63396",
   "metadata": {},
   "outputs": [],
   "source": [
    "#Creating df for production companies\n",
    "prod_comp_df = movies_pd[['id', 'production_companies']].dropna()"
   ]
  },
  {
   "cell_type": "code",
   "execution_count": 30,
   "id": "84d87861",
   "metadata": {},
   "outputs": [
    {
     "name": "stdout",
     "output_type": "stream",
     "text": [
      "<class 'pandas.core.frame.DataFrame'>\n",
      "Index: 44484 entries, 0 to 45465\n",
      "Data columns (total 2 columns):\n",
      " #   Column                Non-Null Count  Dtype \n",
      "---  ------                --------------  ----- \n",
      " 0   id                    44484 non-null  int64 \n",
      " 1   production_companies  44484 non-null  object\n",
      "dtypes: int64(1), object(1)\n",
      "memory usage: 1.0+ MB\n"
     ]
    }
   ],
   "source": [
    "#df info\n",
    "prod_comp_df.info()"
   ]
  },
  {
   "cell_type": "code",
   "execution_count": 31,
   "id": "f602fd1c",
   "metadata": {},
   "outputs": [],
   "source": [
    "#Extract production company id and name for each movie\n",
    "prod_comp_rows = []\n",
    "for idx, row in prod_comp_df.iterrows():\n",
    "    movie_id = row['id']\n",
    "    prod_comp_list = row['production_companies']\n",
    "    if isinstance(prod_comp_list, str):\n",
    "        try:\n",
    "            prod_comp_list = ast.literal_eval(prod_comp_list)\n",
    "        except Exception:\n",
    "            prod_comp_list = []\n",
    "    for prod_comp in prod_comp_list:\n",
    "        if isinstance(prod_comp, dict):\n",
    "            prod_comp_id = prod_comp.get('id')\n",
    "            prod_comp_name = prod_comp.get('name')\n",
    "            prod_comp_rows.append({\n",
    "                'movie_id': movie_id,\n",
    "                'prod_comp_id': prod_comp_id,\n",
    "                'prod_comp_name': prod_comp_name\n",
    "            })\n",
    "        else:\n",
    "            print(f\"Skipping invalid production company data for movie_id {movie_id}\")\n",
    "prod_comp_df = pd.DataFrame(prod_comp_rows)"
   ]
  },
  {
   "cell_type": "code",
   "execution_count": 32,
   "id": "aa7962f4",
   "metadata": {},
   "outputs": [
    {
     "name": "stdout",
     "output_type": "stream",
     "text": [
      "<class 'pandas.core.frame.DataFrame'>\n",
      "RangeIndex: 69778 entries, 0 to 69777\n",
      "Data columns (total 3 columns):\n",
      " #   Column          Non-Null Count  Dtype \n",
      "---  ------          --------------  ----- \n",
      " 0   movie_id        69778 non-null  int64 \n",
      " 1   prod_comp_id    69778 non-null  int64 \n",
      " 2   prod_comp_name  69778 non-null  object\n",
      "dtypes: int64(2), object(1)\n",
      "memory usage: 1.6+ MB\n"
     ]
    }
   ],
   "source": [
    "#df info\n",
    "prod_comp_df.info()"
   ]
  },
  {
   "cell_type": "code",
   "execution_count": 33,
   "id": "78549501",
   "metadata": {},
   "outputs": [],
   "source": [
    "#Claring Na values in prod_comp_id and empty strings in prod_comp_name\n",
    "prod_comp_df = prod_comp_df.dropna(subset=['prod_comp_id'])\n",
    "prod_comp_df = prod_comp_df[prod_comp_df['prod_comp_name'].str.strip().astype(bool)]"
   ]
  },
  {
   "cell_type": "code",
   "execution_count": 34,
   "id": "e6e6d109",
   "metadata": {},
   "outputs": [],
   "source": [
    "#Saving production companies dataframe to csv\n",
    "prod_comp_df.to_csv(PRODUCTION_COMPANIES_FILE, index=False)"
   ]
  },
  {
   "cell_type": "markdown",
   "id": "23d1ad5e",
   "metadata": {},
   "source": [
    "## TRANSFORMING PRODUCTION COUNTRIES INTO ADDITIONAL DATAFRAME"
   ]
  },
  {
   "cell_type": "code",
   "execution_count": 35,
   "id": "63e93aa0",
   "metadata": {},
   "outputs": [],
   "source": [
    "#Creating df for production countries\n",
    "prod_coun_df = movies_pd[['id', 'production_countries']].dropna()"
   ]
  },
  {
   "cell_type": "code",
   "execution_count": 36,
   "id": "752a14d7",
   "metadata": {},
   "outputs": [
    {
     "name": "stdout",
     "output_type": "stream",
     "text": [
      "<class 'pandas.core.frame.DataFrame'>\n",
      "Index: 44484 entries, 0 to 45465\n",
      "Data columns (total 2 columns):\n",
      " #   Column                Non-Null Count  Dtype \n",
      "---  ------                --------------  ----- \n",
      " 0   id                    44484 non-null  int64 \n",
      " 1   production_countries  44484 non-null  object\n",
      "dtypes: int64(1), object(1)\n",
      "memory usage: 1.0+ MB\n"
     ]
    }
   ],
   "source": [
    "#df info\n",
    "prod_coun_df.info()"
   ]
  },
  {
   "cell_type": "code",
   "execution_count": 37,
   "id": "270e255c",
   "metadata": {},
   "outputs": [],
   "source": [
    "#Extract production country code and name for each movie\n",
    "prod_coun_rows = []\n",
    "for idx, row in prod_coun_df.iterrows():\n",
    "    movie_id = row['id']\n",
    "    prod_coun_list = row['production_countries']\n",
    "    if isinstance(prod_coun_list, str):\n",
    "        try:\n",
    "            prod_coun_list = ast.literal_eval(prod_coun_list)\n",
    "        except Exception:\n",
    "            prod_coun_list = []\n",
    "    for prod_coun in prod_coun_list:\n",
    "        if isinstance(prod_coun, dict):\n",
    "            prod_coun_code = prod_coun.get('iso_3166_1')\n",
    "            prod_coun_name = iso_3166_dict.get(prod_coun_code, None)\n",
    "            prod_coun_rows.append({\n",
    "                'movie_id': movie_id,\n",
    "                'prod_coun_code': prod_coun_code,\n",
    "                'prod_coun_name': prod_coun_name\n",
    "            })\n",
    "        else:\n",
    "            print(f\"Skipping invalid production country data for movie_id {movie_id}\")\n",
    "prod_coun_df = pd.DataFrame(prod_coun_rows)"
   ]
  },
  {
   "cell_type": "code",
   "execution_count": 38,
   "id": "f997676d",
   "metadata": {},
   "outputs": [],
   "source": [
    "#Clearing empty string in prod_coun_code and prod_coun_name\n",
    "prod_coun_df = prod_coun_df[prod_coun_df['prod_coun_code'].str.strip().astype(bool)]\n",
    "prod_coun_df = prod_coun_df[prod_coun_df['prod_coun_name'].str.strip().astype(bool)]"
   ]
  },
  {
   "cell_type": "code",
   "execution_count": 39,
   "id": "ed5b92f7",
   "metadata": {},
   "outputs": [],
   "source": [
    "#Saving production companies dataframe to csv\n",
    "prod_coun_df.to_csv(PRODUCTION_COUNTRIES_FILE, index=False)"
   ]
  },
  {
   "cell_type": "markdown",
   "id": "cc207d5f",
   "metadata": {},
   "source": [
    "## TRANSFORMING SPOKEN LANGUAGES INTO ADDITIONAL DATAFRAME"
   ]
  },
  {
   "cell_type": "code",
   "execution_count": 40,
   "id": "7cbe5228",
   "metadata": {},
   "outputs": [],
   "source": [
    "#Creating df for spoken languages\n",
    "spoken_lang_df = movies_pd[['id', 'spoken_languages']].dropna()"
   ]
  },
  {
   "cell_type": "code",
   "execution_count": 41,
   "id": "8422a74c",
   "metadata": {},
   "outputs": [
    {
     "name": "stdout",
     "output_type": "stream",
     "text": [
      "<class 'pandas.core.frame.DataFrame'>\n",
      "Index: 44484 entries, 0 to 45465\n",
      "Data columns (total 2 columns):\n",
      " #   Column            Non-Null Count  Dtype \n",
      "---  ------            --------------  ----- \n",
      " 0   id                44484 non-null  int64 \n",
      " 1   spoken_languages  44484 non-null  object\n",
      "dtypes: int64(1), object(1)\n",
      "memory usage: 1.0+ MB\n"
     ]
    }
   ],
   "source": [
    "#df info\n",
    "spoken_lang_df.info()"
   ]
  },
  {
   "cell_type": "code",
   "execution_count": 42,
   "id": "97ad7a04",
   "metadata": {},
   "outputs": [],
   "source": [
    "#Extract spoken language code for each movie\n",
    "spoken_lang_rows = []\n",
    "for idx, row in spoken_lang_df.iterrows():\n",
    "    movie_id = row['id']\n",
    "    lang_list = row['spoken_languages']\n",
    "    if isinstance(lang_list, str):\n",
    "        try:\n",
    "            lang_list = ast.literal_eval(lang_list)\n",
    "        except Exception:\n",
    "            lang_list = []\n",
    "        for lang in lang_list:\n",
    "            if isinstance(lang, dict):\n",
    "                lang_code = lang.get('iso_639_1')\n",
    "                lang_name = iso_639_dict.get(lang_code, None)\n",
    "                if lang_name:\n",
    "                    spoken_lang_rows.append({\n",
    "                        'movie_id': movie_id,\n",
    "                        'lang_code': lang_code,\n",
    "                        'lang_name': lang_name\n",
    "                    })\n",
    "            else:\n",
    "                print(f\"Skipping invalid spoken language data for movie_id {movie_id}\")\n",
    "spoken_lang_df = pd.DataFrame(spoken_lang_rows)"
   ]
  },
  {
   "cell_type": "code",
   "execution_count": 43,
   "id": "ae2d6f15",
   "metadata": {},
   "outputs": [],
   "source": [
    "#Clearing empty string in lang_code and lang_name\n",
    "spoken_lang_df = spoken_lang_df[spoken_lang_df['lang_code'].str.strip().astype(bool)]  \n",
    "spoken_lang_df = spoken_lang_df[spoken_lang_df['lang_name'].str.strip().astype(bool)]       "
   ]
  },
  {
   "cell_type": "code",
   "execution_count": 44,
   "id": "f565a9c6",
   "metadata": {},
   "outputs": [
    {
     "name": "stdout",
     "output_type": "stream",
     "text": [
      "<class 'pandas.core.frame.DataFrame'>\n",
      "RangeIndex: 51689 entries, 0 to 51688\n",
      "Data columns (total 3 columns):\n",
      " #   Column     Non-Null Count  Dtype \n",
      "---  ------     --------------  ----- \n",
      " 0   movie_id   51689 non-null  int64 \n",
      " 1   lang_code  51689 non-null  object\n",
      " 2   lang_name  51689 non-null  object\n",
      "dtypes: int64(1), object(2)\n",
      "memory usage: 1.2+ MB\n"
     ]
    }
   ],
   "source": [
    "#df info\n",
    "spoken_lang_df.info()"
   ]
  },
  {
   "cell_type": "code",
   "execution_count": 45,
   "id": "dbf9bbfa",
   "metadata": {},
   "outputs": [],
   "source": [
    "#Saving spoken languages dataframe to csv\n",
    "spoken_lang_df.to_csv(SPOKEN_LANGUAGES_FILE, index=False)"
   ]
  }
 ],
 "metadata": {
  "kernelspec": {
   "display_name": "Python 3",
   "language": "python",
   "name": "python3"
  },
  "language_info": {
   "codemirror_mode": {
    "name": "ipython",
    "version": 3
   },
   "file_extension": ".py",
   "mimetype": "text/x-python",
   "name": "python",
   "nbconvert_exporter": "python",
   "pygments_lexer": "ipython3",
   "version": "3.11.3"
  }
 },
 "nbformat": 4,
 "nbformat_minor": 5
}
